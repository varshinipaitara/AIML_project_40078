{
  "nbformat": 4,
  "nbformat_minor": 0,
  "metadata": {
    "colab": {
      "provenance": []
    },
    "kernelspec": {
      "name": "python3",
      "display_name": "Python 3"
    },
    "language_info": {
      "name": "python"
    }
  },
  "cells": [
    {
      "cell_type": "markdown",
      "source": [
        "UNINFORMED SEARCH (BFS,DFS,IDDFS)\n"
      ],
      "metadata": {
        "id": "hO0xhR9yPy8l"
      }
    },
    {
      "cell_type": "code",
      "execution_count": 11,
      "metadata": {
        "colab": {
          "base_uri": "https://localhost:8080/"
        },
        "id": "Gu_HSSkCNWVm",
        "outputId": "19ba6f47-ae94-4eee-ca21-36f97582b4cc"
      },
      "outputs": [
        {
          "output_type": "stream",
          "name": "stdout",
          "text": [
            "1\n",
            "2\n",
            "3\n",
            "4\n",
            "5\n",
            "6\n"
          ]
        }
      ],
      "source": [
        "from collections import deque\n",
        "\n",
        "def bfs(g, start):\n",
        "    visited = set()\n",
        "    queue = deque([start])\n",
        "    while queue:\n",
        "        node = queue.popleft()\n",
        "        if node not in visited:\n",
        "            print(node)\n",
        "            visited.add(node)\n",
        "            for n in g[node]:\n",
        "                if n not in visited:\n",
        "                    queue.append(n)\n",
        "g = {\n",
        "    1: [2, 3],\n",
        "    2: [1, 4, 5],\n",
        "    3: [1, 5],\n",
        "    4: [2, 6],\n",
        "    5: [2, 3],\n",
        "    6: [4]\n",
        "}\n",
        "bfs(g, 1)\n"
      ]
    },
    {
      "cell_type": "code",
      "source": [
        "def dfs(g, start):\n",
        "    visited = set()\n",
        "    stack = [start]\n",
        "\n",
        "    while stack:\n",
        "        node = stack.pop()\n",
        "        if node not in visited:\n",
        "            print(node)\n",
        "            visited.add(node)\n",
        "            stack.extend(reversed(g[node]))\n",
        "g = {\n",
        "    1: [6, 3],\n",
        "    2: [1, 7, 5],\n",
        "    3: [1, 5],\n",
        "    4: [6, 1],\n",
        "    5: [6, 3],\n",
        "    6: [4]\n",
        "}\n",
        "dfs(g, 1)"
      ],
      "metadata": {
        "colab": {
          "base_uri": "https://localhost:8080/"
        },
        "id": "D22Re5ZSOCHa",
        "outputId": "454f4bab-56b8-4576-fba8-b29b8dbfad59"
      },
      "execution_count": 2,
      "outputs": [
        {
          "output_type": "stream",
          "name": "stdout",
          "text": [
            "1\n",
            "6\n",
            "4\n",
            "3\n",
            "5\n"
          ]
        }
      ]
    },
    {
      "cell_type": "code",
      "source": [
        "def iddfs(g, start, max_depth):\n",
        "    def dfs(node, depth, visited):\n",
        "        if depth == 0:\n",
        "            return\n",
        "        print(node)\n",
        "        visited.add(node)\n",
        "        for neighbor in g[node]:\n",
        "            if neighbor not in visited:\n",
        "                dfs(neighbor, depth - 1, visited)\n",
        "\n",
        "    for depth in range(1, max_depth + 1):\n",
        "        print(f\"Depth {depth}:\")\n",
        "        visited = set()\n",
        "        dfs(start, depth, visited)\n",
        "        print()\n",
        "\n",
        "# Graph with numbers as nodes\n",
        "g = {\n",
        "     1: [6, 3],\n",
        "    2: [1, 7, 5],\n",
        "    3: [1, 5],\n",
        "    4: [6, 1],\n",
        "    5: [6, 3],\n",
        "    6: [4]\n",
        "}\n",
        "\n",
        "# Start IDDFS from node 1 with a maximum depth limit of 3\n",
        "iddfs(g, 1, 3)\n"
      ],
      "metadata": {
        "colab": {
          "base_uri": "https://localhost:8080/"
        },
        "id": "jKC25VVFOL81",
        "outputId": "787777c7-f6c0-458a-d2a4-95cb75ab640e"
      },
      "execution_count": 3,
      "outputs": [
        {
          "output_type": "stream",
          "name": "stdout",
          "text": [
            "Depth 1:\n",
            "1\n",
            "\n",
            "Depth 2:\n",
            "1\n",
            "6\n",
            "3\n",
            "\n",
            "Depth 3:\n",
            "1\n",
            "6\n",
            "4\n",
            "3\n",
            "5\n",
            "\n"
          ]
        }
      ]
    },
    {
      "cell_type": "markdown",
      "source": [
        "INFORMED SEARCH TECHNIQUE(A*,BFS)\n"
      ],
      "metadata": {
        "id": "4eCtakhTOm5_"
      }
    },
    {
      "cell_type": "code",
      "source": [
        "import heapq\n",
        "def astar(graph, start, goal, h):\n",
        "    queue = [(h[start], start, 0)]\n",
        "    visited = set()\n",
        "    while queue:\n",
        "        f, node, g = heapq.heappop(queue)\n",
        "        if node in visited:\n",
        "            continue\n",
        "        print(node)\n",
        "        visited.add(node)\n",
        "        if node == goal:\n",
        "            break\n",
        "        for neighbor, cost in graph[node]:\n",
        "            if neighbor not in visited:\n",
        "                new_g = g + cost\n",
        "                new_f = new_g + h[neighbor]\n",
        "                heapq.heappush(queue, (new_f, neighbor, new_g))\n",
        "\n",
        "# Graph:(neighbor, cost) pairs\n",
        "graph = {\n",
        "    1: [(2, 1), (3, 4)],\n",
        "    2: [(4, 1), (5, 4)],\n",
        "    3: [(5, 2)],\n",
        "    4: [(6, 2)],\n",
        "    5: [(6, 1)],\n",
        "    6: []\n",
        "}\n",
        "# Heuristic function\n",
        "h = {\n",
        "    1: 5,\n",
        "    2: 3,\n",
        "    3: 2,\n",
        "    4: 2,\n",
        "    5: 1,\n",
        "    6: 0\n",
        "}\n",
        "astar(graph, 1, 6, h)\n"
      ],
      "metadata": {
        "colab": {
          "base_uri": "https://localhost:8080/"
        },
        "id": "fKFHifjDO1iA",
        "outputId": "9c1a1b55-20f5-42b2-9065-6952d47106ab"
      },
      "execution_count": 4,
      "outputs": [
        {
          "output_type": "stream",
          "name": "stdout",
          "text": [
            "1\n",
            "2\n",
            "4\n",
            "6\n"
          ]
        }
      ]
    },
    {
      "cell_type": "code",
      "source": [
        "import heapq\n",
        "def best_first_search(graph, start, goal, h):\n",
        "    queue = [(h[start], start)]\n",
        "    visited = set()\n",
        "\n",
        "    while queue:\n",
        "        _, node = heapq.heappop(queue)\n",
        "        if node in visited:\n",
        "            continue\n",
        "        print(node)\n",
        "        visited.add(node)\n",
        "        if node == goal:\n",
        "            break\n",
        "        for neighbor, _ in graph[node]:\n",
        "            if neighbor not in visited:\n",
        "                heapq.heappush(queue, (h[neighbor], neighbor))\n",
        "graph = {\n",
        "    1: [(2, 1), (3, 4)],\n",
        "    2: [(4, 1), (5, 4)],\n",
        "    3: [(5, 2)],\n",
        "    4: [(6, 2)],\n",
        "    5: [(6, 1)],\n",
        "    6: []\n",
        "}\n",
        "h = {\n",
        "    1: 5,\n",
        "    2: 3,\n",
        "    3: 2,\n",
        "    4: 2,\n",
        "    5: 1,\n",
        "    6: 0\n",
        "}\n",
        "best_first_search(graph, 1, 6, h)"
      ],
      "metadata": {
        "colab": {
          "base_uri": "https://localhost:8080/"
        },
        "id": "wOja83AuO_kq",
        "outputId": "6dbe025d-ed4f-4df1-a7e6-e6621a24a6af"
      },
      "execution_count": 5,
      "outputs": [
        {
          "output_type": "stream",
          "name": "stdout",
          "text": [
            "1\n",
            "3\n",
            "5\n",
            "6\n"
          ]
        }
      ]
    },
    {
      "cell_type": "markdown",
      "source": [
        "ADVERSAL SEARCH TECHNIQUES\n"
      ],
      "metadata": {
        "id": "g49a-FQ3PKTm"
      }
    },
    {
      "cell_type": "code",
      "source": [
        "import math\n",
        "\n",
        "MIN = -math.inf\n",
        "MAX = math.inf\n",
        "\n",
        "def alpha_beta(depth, node_index, maximizing_player, values, alpha, beta):\n",
        "    if depth == 3:\n",
        "        return values[node_index]\n",
        "\n",
        "    if maximizing_player:\n",
        "        max_eval = MIN\n",
        "        for i in range(2):\n",
        "            eval = alpha_beta(depth + 1, node_index * 2 + i, False, values, alpha, beta)\n",
        "            max_eval = max(max_eval, eval)\n",
        "            alpha = max(alpha, eval)\n",
        "            if beta <= alpha:\n",
        "                break\n",
        "        return max_eval\n",
        "    else:\n",
        "        min_eval = MAX\n",
        "        for i in range(2):\n",
        "            eval = alpha_beta(depth + 1, node_index * 2 + i, True, values, alpha, beta)\n",
        "            min_eval = min(min_eval, eval)\n",
        "            beta = min(beta, eval)\n",
        "            if beta <= alpha:\n",
        "                break\n",
        "        return min_eval\n",
        "\n",
        "values = [3, 9, 8, 7, 1, 3, 0, -1]\n",
        "result = alpha_beta(0, 0, True, values, MIN, MAX)\n",
        "print(\"The optimal value is:\", result)\n"
      ],
      "metadata": {
        "colab": {
          "base_uri": "https://localhost:8080/"
        },
        "id": "6jBGBYoYPPA2",
        "outputId": "c48eb8c8-f3b8-43f6-d028-4a9156f12384"
      },
      "execution_count": 10,
      "outputs": [
        {
          "output_type": "stream",
          "name": "stdout",
          "text": [
            "The optimal value is: 8\n"
          ]
        }
      ]
    },
    {
      "cell_type": "code",
      "source": [
        "def minimax(depth, is_maximizing, values):\n",
        "    if depth == len(values):\n",
        "        return values[depth - 1]\n",
        "\n",
        "    if is_maximizing:\n",
        "        best_value = float('-inf')\n",
        "        for i in range(2):\n",
        "            val = minimax(depth + 1, False, values)\n",
        "            best_value = max(best_value, val)\n",
        "        return best_value\n",
        "    else:\n",
        "        best_value = float('inf')\n",
        "        for i in range(2):\n",
        "            val = minimax(depth + 1, True, values)\n",
        "            best_value = min(best_value, val)\n",
        "        return best_value\n",
        "\n",
        "values = [3, 12, 8, 5, 14, 16, 13, 8]\n",
        "result = minimax(1, True, values)\n",
        "print(\"The optimal value is:\", result)"
      ],
      "metadata": {
        "colab": {
          "base_uri": "https://localhost:8080/"
        },
        "id": "KonKS4gGPTsr",
        "outputId": "7f686108-cf1b-4f37-a6d2-14b15495030f"
      },
      "execution_count": 8,
      "outputs": [
        {
          "output_type": "stream",
          "name": "stdout",
          "text": [
            "The optimal value is: 8\n"
          ]
        }
      ]
    }
  ]
}